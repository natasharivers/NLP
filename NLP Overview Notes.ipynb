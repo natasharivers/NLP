{
 "cells": [
  {
   "cell_type": "markdown",
   "metadata": {},
   "source": [
    "# Natural Language Processing Overview\n",
    "\n",
    "- Data Science with natural language as a main compondent of the data\n",
    "- technigques for dealing with NL\n",
    "- supervised, unsupervised or no ML\n",
    "\n",
    "<br>\n",
    "\n",
    "- use cases:\n",
    "    - topic modeling\n",
    "    - seach engines\n",
    "    - customer interaction anlysis\n",
    "    - chatbots\n",
    "    - text classificaion\n",
    "    - knowledge management and discovery"
   ]
  },
  {
   "cell_type": "markdown",
   "metadata": {},
   "source": [
    "## Vocab:\n",
    "- **corpus**: entire dataset\n",
    "- **document**: one observation(row)\n",
    "- **tokenization**: breaking up into tokens\n",
    "    - ex: space character seperates tokens\n",
    "- **stemming/lematizing**: if level of token is a word, transforming words into their roots\n",
    "    - ex: stemming = stem (removing conjugations)\n",
    "    - ex: isn't = is not (take away abreviations and apostrophies)\n",
    "    - used to normalize text data\n",
    "- **stopwords**: common words that (usually) don't add value\n",
    "    - exmples: and, the, you, an, is\n",
    "- **ngrams**: combinations of n words\n",
    "    - ex: how often does 'data science' appear in a document\n",
    "- **POS**: part of speech\n",
    "    - noun, verb, adjective, adverb, etc"
   ]
  },
  {
   "cell_type": "markdown",
   "metadata": {},
   "source": [
    "<hr style=\"border:2px solid black\"> </hr>"
   ]
  },
  {
   "cell_type": "markdown",
   "metadata": {},
   "source": [
    "# Pipeline:"
   ]
  },
  {
   "cell_type": "markdown",
   "metadata": {},
   "source": [
    "## Regular Expressions: \n",
    "a meta language that describes regular patterns in text\n",
    "   - ex: what identifies an address?\n",
    "       - number, space, street name, space, city, space, state, space, zip\n",
    "   - ex: find any two word combo that starts with data\n",
    "       - r\"data\\s(\\w+)"
   ]
  },
  {
   "cell_type": "markdown",
   "metadata": {},
   "source": [
    "## Data Acquisition: \n",
    "Web scraping\n",
    "   - create own dataset, based off info found from the internet\n",
    "   - Use: BeautifulSoup() <-- library"
   ]
  },
  {
   "cell_type": "markdown",
   "metadata": {},
   "source": [
    "## Data Prep:\n",
    "   - casing\n",
    "   - tokenization\n",
    "   - stopword removal\n",
    "   - stemming/lemmatization"
   ]
  },
  {
   "cell_type": "markdown",
   "metadata": {},
   "source": [
    "## Exploration:\n",
    "   - find what can we quantify in a document\n",
    "       - most common words\n",
    "       - most common ngrams\n",
    "       - word count, sentence count\n",
    "       - ratio of words to sentence (words per sentence)\n",
    "   - plot those points against eachother\n",
    "   - use: word clouds!!"
   ]
  },
  {
   "cell_type": "markdown",
   "metadata": {},
   "source": [
    "## Modeling:\n",
    "   - how do we represent a document as a set of numbers?\n",
    "   - word frequency (bag of words)\n",
    "       - turn natural language sentences into a set of numbers\n",
    "   - count vectorizer\n",
    "   - TF-IDF\n",
    " \n",
    "**Example of bag of words**\n",
    " \n",
    " 1. apples are pretty\n",
    " 2. oranges are nice\n",
    " \n",
    " | apples    |  are    |  nice   |  pretty | oranges  |\n",
    " |-----------|---------|---------|---------|----------|\n",
    " | 1         | 1       | 0       |  1      |  0       |\n",
    " | 0         | 1       | 1       |  0      |  1       |\n",
    " \n",
    " "
   ]
  }
 ],
 "metadata": {
  "kernelspec": {
   "display_name": "Python 3",
   "language": "python",
   "name": "python3"
  },
  "language_info": {
   "codemirror_mode": {
    "name": "ipython",
    "version": 3
   },
   "file_extension": ".py",
   "mimetype": "text/x-python",
   "name": "python",
   "nbconvert_exporter": "python",
   "pygments_lexer": "ipython3",
   "version": "3.8.5"
  }
 },
 "nbformat": 4,
 "nbformat_minor": 4
}
